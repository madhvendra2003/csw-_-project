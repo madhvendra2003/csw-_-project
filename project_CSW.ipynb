{
 "cells": [
  {
   "cell_type": "code",
   "execution_count": 1,
   "id": "00224de2",
   "metadata": {},
   "outputs": [],
   "source": [
    "import numpy as np\n",
    "import pandas as pd\n",
    "\n",
    "import yfinance as yf\n",
    "import seaborn as sns\n",
    "import matplotlib.pyplot as plt"
   ]
  },
  {
   "cell_type": "code",
   "execution_count": 6,
   "id": "2a0cff57",
   "metadata": {},
   "outputs": [
    {
     "name": "stdout",
     "output_type": "stream",
     "text": [
      "enter the code of the stock :- NG=F\n",
      "[*********************100%%**********************]  1 of 1 completed\n"
     ]
    },
    {
     "data": {
      "text/html": [
       "<div>\n",
       "<style scoped>\n",
       "    .dataframe tbody tr th:only-of-type {\n",
       "        vertical-align: middle;\n",
       "    }\n",
       "\n",
       "    .dataframe tbody tr th {\n",
       "        vertical-align: top;\n",
       "    }\n",
       "\n",
       "    .dataframe thead th {\n",
       "        text-align: right;\n",
       "    }\n",
       "</style>\n",
       "<table border=\"1\" class=\"dataframe\">\n",
       "  <thead>\n",
       "    <tr style=\"text-align: right;\">\n",
       "      <th></th>\n",
       "      <th>Open</th>\n",
       "      <th>High</th>\n",
       "      <th>Low</th>\n",
       "      <th>Close</th>\n",
       "      <th>Volume</th>\n",
       "    </tr>\n",
       "    <tr>\n",
       "      <th>Date</th>\n",
       "      <th></th>\n",
       "      <th></th>\n",
       "      <th></th>\n",
       "      <th></th>\n",
       "      <th></th>\n",
       "    </tr>\n",
       "  </thead>\n",
       "  <tbody>\n",
       "    <tr>\n",
       "      <th>2020-01-02</th>\n",
       "      <td>2.184</td>\n",
       "      <td>2.188</td>\n",
       "      <td>2.116</td>\n",
       "      <td>2.122</td>\n",
       "      <td>164570</td>\n",
       "    </tr>\n",
       "    <tr>\n",
       "      <th>2020-01-03</th>\n",
       "      <td>2.129</td>\n",
       "      <td>2.163</td>\n",
       "      <td>2.083</td>\n",
       "      <td>2.130</td>\n",
       "      <td>144669</td>\n",
       "    </tr>\n",
       "    <tr>\n",
       "      <th>2020-01-06</th>\n",
       "      <td>2.112</td>\n",
       "      <td>2.173</td>\n",
       "      <td>2.099</td>\n",
       "      <td>2.135</td>\n",
       "      <td>154678</td>\n",
       "    </tr>\n",
       "    <tr>\n",
       "      <th>2020-01-07</th>\n",
       "      <td>2.149</td>\n",
       "      <td>2.178</td>\n",
       "      <td>2.102</td>\n",
       "      <td>2.162</td>\n",
       "      <td>163006</td>\n",
       "    </tr>\n",
       "    <tr>\n",
       "      <th>2020-01-08</th>\n",
       "      <td>2.153</td>\n",
       "      <td>2.185</td>\n",
       "      <td>2.115</td>\n",
       "      <td>2.141</td>\n",
       "      <td>242559</td>\n",
       "    </tr>\n",
       "    <tr>\n",
       "      <th>...</th>\n",
       "      <td>...</td>\n",
       "      <td>...</td>\n",
       "      <td>...</td>\n",
       "      <td>...</td>\n",
       "      <td>...</td>\n",
       "    </tr>\n",
       "    <tr>\n",
       "      <th>2023-09-25</th>\n",
       "      <td>2.657</td>\n",
       "      <td>2.671</td>\n",
       "      <td>2.606</td>\n",
       "      <td>2.639</td>\n",
       "      <td>36175</td>\n",
       "    </tr>\n",
       "    <tr>\n",
       "      <th>2023-09-26</th>\n",
       "      <td>2.638</td>\n",
       "      <td>2.667</td>\n",
       "      <td>2.552</td>\n",
       "      <td>2.656</td>\n",
       "      <td>57087</td>\n",
       "    </tr>\n",
       "    <tr>\n",
       "      <th>2023-09-27</th>\n",
       "      <td>2.656</td>\n",
       "      <td>2.781</td>\n",
       "      <td>2.640</td>\n",
       "      <td>2.764</td>\n",
       "      <td>136011</td>\n",
       "    </tr>\n",
       "    <tr>\n",
       "      <th>2023-09-28</th>\n",
       "      <td>2.891</td>\n",
       "      <td>2.981</td>\n",
       "      <td>2.868</td>\n",
       "      <td>2.945</td>\n",
       "      <td>123674</td>\n",
       "    </tr>\n",
       "    <tr>\n",
       "      <th>2023-09-29</th>\n",
       "      <td>2.949</td>\n",
       "      <td>2.997</td>\n",
       "      <td>2.855</td>\n",
       "      <td>2.929</td>\n",
       "      <td>114663</td>\n",
       "    </tr>\n",
       "  </tbody>\n",
       "</table>\n",
       "<p>943 rows × 5 columns</p>\n",
       "</div>"
      ],
      "text/plain": [
       "             Open   High    Low  Close  Volume\n",
       "Date                                          \n",
       "2020-01-02  2.184  2.188  2.116  2.122  164570\n",
       "2020-01-03  2.129  2.163  2.083  2.130  144669\n",
       "2020-01-06  2.112  2.173  2.099  2.135  154678\n",
       "2020-01-07  2.149  2.178  2.102  2.162  163006\n",
       "2020-01-08  2.153  2.185  2.115  2.141  242559\n",
       "...           ...    ...    ...    ...     ...\n",
       "2023-09-25  2.657  2.671  2.606  2.639   36175\n",
       "2023-09-26  2.638  2.667  2.552  2.656   57087\n",
       "2023-09-27  2.656  2.781  2.640  2.764  136011\n",
       "2023-09-28  2.891  2.981  2.868  2.945  123674\n",
       "2023-09-29  2.949  2.997  2.855  2.929  114663\n",
       "\n",
       "[943 rows x 5 columns]"
      ]
     },
     "execution_count": 6,
     "metadata": {},
     "output_type": "execute_result"
    }
   ],
   "source": [
    "stocks = input(\"enter the code of the stock :- \")\n",
    "data = yf.download(stocks,\"2020-01-01\",\"2023-10-01\",auto_adjust=True)\n",
    "data"
   ]
  },
  {
   "cell_type": "code",
   "execution_count": 7,
   "id": "d620f458",
   "metadata": {},
   "outputs": [
    {
     "data": {
      "text/plain": [
       "(943, 5)"
      ]
     },
     "execution_count": 7,
     "metadata": {},
     "output_type": "execute_result"
    }
   ],
   "source": [
    "data.shape"
   ]
  },
  {
   "cell_type": "code",
   "execution_count": 8,
   "id": "1533d76b",
   "metadata": {},
   "outputs": [
    {
     "name": "stdout",
     "output_type": "stream",
     "text": [
      "<class 'pandas.core.frame.DataFrame'>\n",
      "DatetimeIndex: 943 entries, 2020-01-02 to 2023-09-29\n",
      "Data columns (total 5 columns):\n",
      " #   Column  Non-Null Count  Dtype  \n",
      "---  ------  --------------  -----  \n",
      " 0   Open    943 non-null    float64\n",
      " 1   High    943 non-null    float64\n",
      " 2   Low     943 non-null    float64\n",
      " 3   Close   943 non-null    float64\n",
      " 4   Volume  943 non-null    int64  \n",
      "dtypes: float64(4), int64(1)\n",
      "memory usage: 44.2 KB\n"
     ]
    }
   ],
   "source": [
    "data.info()"
   ]
  },
  {
   "cell_type": "code",
   "execution_count": 9,
   "id": "aa9d2a52",
   "metadata": {},
   "outputs": [
    {
     "data": {
      "text/html": [
       "<div>\n",
       "<style scoped>\n",
       "    .dataframe tbody tr th:only-of-type {\n",
       "        vertical-align: middle;\n",
       "    }\n",
       "\n",
       "    .dataframe tbody tr th {\n",
       "        vertical-align: top;\n",
       "    }\n",
       "\n",
       "    .dataframe thead th {\n",
       "        text-align: right;\n",
       "    }\n",
       "</style>\n",
       "<table border=\"1\" class=\"dataframe\">\n",
       "  <thead>\n",
       "    <tr style=\"text-align: right;\">\n",
       "      <th></th>\n",
       "      <th>Open</th>\n",
       "      <th>High</th>\n",
       "      <th>Low</th>\n",
       "      <th>Close</th>\n",
       "      <th>Volume</th>\n",
       "    </tr>\n",
       "  </thead>\n",
       "  <tbody>\n",
       "    <tr>\n",
       "      <th>count</th>\n",
       "      <td>943.000000</td>\n",
       "      <td>943.000000</td>\n",
       "      <td>943.000000</td>\n",
       "      <td>943.000000</td>\n",
       "      <td>943.000000</td>\n",
       "    </tr>\n",
       "    <tr>\n",
       "      <th>mean</th>\n",
       "      <td>3.826343</td>\n",
       "      <td>3.952966</td>\n",
       "      <td>3.699961</td>\n",
       "      <td>3.819952</td>\n",
       "      <td>137318.598091</td>\n",
       "    </tr>\n",
       "    <tr>\n",
       "      <th>std</th>\n",
       "      <td>2.020854</td>\n",
       "      <td>2.107422</td>\n",
       "      <td>1.933708</td>\n",
       "      <td>2.017857</td>\n",
       "      <td>58357.144224</td>\n",
       "    </tr>\n",
       "    <tr>\n",
       "      <th>min</th>\n",
       "      <td>1.441000</td>\n",
       "      <td>1.567000</td>\n",
       "      <td>1.432000</td>\n",
       "      <td>1.482000</td>\n",
       "      <td>0.000000</td>\n",
       "    </tr>\n",
       "    <tr>\n",
       "      <th>25%</th>\n",
       "      <td>2.391500</td>\n",
       "      <td>2.469000</td>\n",
       "      <td>2.317500</td>\n",
       "      <td>2.397000</td>\n",
       "      <td>101655.000000</td>\n",
       "    </tr>\n",
       "    <tr>\n",
       "      <th>50%</th>\n",
       "      <td>2.881000</td>\n",
       "      <td>2.971000</td>\n",
       "      <td>2.828000</td>\n",
       "      <td>2.888000</td>\n",
       "      <td>132424.000000</td>\n",
       "    </tr>\n",
       "    <tr>\n",
       "      <th>75%</th>\n",
       "      <td>5.020000</td>\n",
       "      <td>5.192000</td>\n",
       "      <td>4.847500</td>\n",
       "      <td>5.024000</td>\n",
       "      <td>167423.500000</td>\n",
       "    </tr>\n",
       "    <tr>\n",
       "      <th>max</th>\n",
       "      <td>9.817000</td>\n",
       "      <td>10.028000</td>\n",
       "      <td>9.200000</td>\n",
       "      <td>9.680000</td>\n",
       "      <td>381969.000000</td>\n",
       "    </tr>\n",
       "  </tbody>\n",
       "</table>\n",
       "</div>"
      ],
      "text/plain": [
       "             Open        High         Low       Close         Volume\n",
       "count  943.000000  943.000000  943.000000  943.000000     943.000000\n",
       "mean     3.826343    3.952966    3.699961    3.819952  137318.598091\n",
       "std      2.020854    2.107422    1.933708    2.017857   58357.144224\n",
       "min      1.441000    1.567000    1.432000    1.482000       0.000000\n",
       "25%      2.391500    2.469000    2.317500    2.397000  101655.000000\n",
       "50%      2.881000    2.971000    2.828000    2.888000  132424.000000\n",
       "75%      5.020000    5.192000    4.847500    5.024000  167423.500000\n",
       "max      9.817000   10.028000    9.200000    9.680000  381969.000000"
      ]
     },
     "execution_count": 9,
     "metadata": {},
     "output_type": "execute_result"
    }
   ],
   "source": [
    "data.describe()"
   ]
  },
  {
   "cell_type": "code",
   "execution_count": 10,
   "id": "8a1c981c",
   "metadata": {},
   "outputs": [
    {
     "data": {
      "image/png": "[encoded data removed]",
      "text/plain": [
       "<Figure size 1000x700 with 1 Axes>"
      ]
     },
     "metadata": {},
     "output_type": "display_data"
    }
   ],
   "source": [
    "data.Close.plot(figsize=(10,7),color='r')\n",
    "plt.ylabel(\"{} Prices\".format(stocks))\n",
    "plt.title(\"{} Prices Series \".format(stocks))\n",
    "plt.show()\n"
   ]
  },
  {
   "cell_type": "code",
   "execution_count": 11,
   "id": "af81094c",
   "metadata": {},
   "outputs": [
    {
     "name": "stderr",
     "output_type": "stream",
     "text": [
      "C:\\Users\\91861\\AppData\\Local\\Temp\\ipykernel_15832\\2693321050.py:1: UserWarning: \n",
      "\n",
      "`distplot` is a deprecated function and will be removed in seaborn v0.14.0.\n",
      "\n",
      "Please adapt your code to use either `displot` (a figure-level function with\n",
      "similar flexibility) or `histplot` (an axes-level function for histograms).\n",
      "\n",
      "For a guide to updating your code to use the new functions, please see\n",
      "https://gist.github.com/mwaskom/de44147ed2974457ad6372750bbe5751\n",
      "\n",
      "  sns.distplot(data[\"Close\"])\n"
     ]
    },
    {
     "data": {
      "text/plain": [
       "<Axes: xlabel='Close', ylabel='Density'>"
      ]
     },
     "execution_count": 11,
     "metadata": {},
     "output_type": "execute_result"
    },
    {
     "data": {
      "image/png": "[encoded data removed]",
      "text/plain": [
       "<Figure size 640x480 with 1 Axes>"
      ]
     },
     "metadata": {},
     "output_type": "display_data"
    }
   ],
   "source": [
    "sns.distplot(data[\"Close\"])"
   ]
  },
  {
   "cell_type": "code",
   "execution_count": 12,
   "id": "b77741e6",
   "metadata": {},
   "outputs": [
    {
     "name": "stderr",
     "output_type": "stream",
     "text": [
      "C:\\Users\\91861\\AppData\\Local\\Temp\\ipykernel_15832\\3218051027.py:1: UserWarning: \n",
      "\n",
      "`distplot` is a deprecated function and will be removed in seaborn v0.14.0.\n",
      "\n",
      "Please adapt your code to use either `displot` (a figure-level function with\n",
      "similar flexibility) or `histplot` (an axes-level function for histograms).\n",
      "\n",
      "For a guide to updating your code to use the new functions, please see\n",
      "https://gist.github.com/mwaskom/de44147ed2974457ad6372750bbe5751\n",
      "\n",
      "  sns.distplot(data[\"Open\"])\n"
     ]
    },
    {
     "data": {
      "text/plain": [
       "<Axes: xlabel='Open', ylabel='Density'>"
      ]
     },
     "execution_count": 12,
     "metadata": {},
     "output_type": "execute_result"
    },
    {
     "data": {
      "image/png": "[encoded data removed]",
      "text/plain": [
       "<Figure size 640x480 with 1 Axes>"
      ]
     },
     "metadata": {},
     "output_type": "display_data"
    }
   ],
   "source": [
    "sns.distplot(data[\"Open\"])"
   ]
  },
  {
   "cell_type": "code",
   "execution_count": 13,
   "id": "dd023ab8",
   "metadata": {},
   "outputs": [
    {
     "name": "stderr",
     "output_type": "stream",
     "text": [
      "C:\\Users\\91861\\AppData\\Local\\Temp\\ipykernel_15832\\3277148864.py:1: UserWarning: \n",
      "\n",
      "`distplot` is a deprecated function and will be removed in seaborn v0.14.0.\n",
      "\n",
      "Please adapt your code to use either `displot` (a figure-level function with\n",
      "similar flexibility) or `histplot` (an axes-level function for histograms).\n",
      "\n",
      "For a guide to updating your code to use the new functions, please see\n",
      "https://gist.github.com/mwaskom/de44147ed2974457ad6372750bbe5751\n",
      "\n",
      "  sns.distplot(data[\"High\"])\n"
     ]
    },
    {
     "data": {
      "text/plain": [
       "<Axes: xlabel='High', ylabel='Density'>"
      ]
     },
     "execution_count": 13,
     "metadata": {},
     "output_type": "execute_result"
    },
    {
     "data": {
      "image/png": "[encoded data removed]",
      "text/plain": [
       "<Figure size 640x480 with 1 Axes>"
      ]
     },
     "metadata": {},
     "output_type": "display_data"
    }
   ],
   "source": [
    "sns.distplot(data[\"High\"])"
   ]
  },
  {
   "cell_type": "code",
   "execution_count": 19,
   "id": "6afaa264",
   "metadata": {},
   "outputs": [
    {
     "name": "stdout",
     "output_type": "stream",
     "text": [
      "Date\n",
      "2021-05-17    3.109\n",
      "2023-06-27    2.763\n",
      "2022-03-21    4.900\n",
      "2022-08-25    9.375\n",
      "2020-12-08    2.399\n",
      "              ...  \n",
      "2020-04-27    1.819\n",
      "2022-07-21    7.932\n",
      "2020-09-21    1.835\n",
      "2023-09-20    2.733\n",
      "2022-03-29    5.336\n",
      "Name: Close, Length: 189, dtype: float64\n"
     ]
    }
   ],
   "source": [
    "# conclusions\n",
    "#-shape of the data\n",
    "#-hoe our data is distributed\n",
    "#-it's very very non linear\n",
    "#linear,logistic,Regularized,SVM\n",
    "X = data.drop(\"Close\",axis=1)\n",
    "y = data[\"Close\"]\n",
    "\n",
    "from sklearn.model_selection import train_test_split\n",
    "\n",
    "X_train,X_test,y_train,y_test = train_test_split(X,y,test_size=0.2, random_state=0)\n",
    "print(y_test)"
   ]
  },
  {
   "cell_type": "code",
   "execution_count": 18,
   "id": "21e3f935",
   "metadata": {},
   "outputs": [
    {
     "data": {
      "text/plain": [
       "array([3.06578629, 4.66872386, 2.78523308, 3.98972268, 3.65997158,\n",
       "       2.31795798, 7.43134889, 1.91628431, 3.15196884, 9.80536249,\n",
       "       1.68018089, 3.88472079, 2.72851729, 2.9847587 , 8.28356405,\n",
       "       4.97046468, 2.7227658 , 1.83902015, 1.71906305, 4.66871224,\n",
       "       4.10324783, 2.64832848, 2.54521617, 1.6465316 , 6.56498083,\n",
       "       2.75607079, 4.68296794, 6.00012359, 3.26860118, 4.31686511,\n",
       "       2.34514949, 5.65429887, 1.79280126, 2.66285235, 8.7643359 ,\n",
       "       2.2088859 , 2.78500118, 1.72506445, 2.41732321, 7.73316605,\n",
       "       1.86446616, 6.26896901, 1.73774232, 1.84263954, 3.01505566,\n",
       "       6.09181677, 5.00051672, 1.83968965, 2.14695862, 2.18392871,\n",
       "       2.17897464, 2.9456646 , 1.94989309, 1.8362591 , 2.22743563,\n",
       "       3.78346856, 1.59170227, 3.90377857, 2.7117833 , 1.91496869,\n",
       "       1.82940085, 3.74292286, 4.98844733, 1.6115584 , 2.11826578,\n",
       "       1.77913073, 7.19662604, 2.56511448, 4.52888235, 2.58268328,\n",
       "       3.04543398, 2.78422298, 4.05766317, 7.07424645, 3.33456948,\n",
       "       4.22214698, 3.9529201 , 6.62891952, 7.21252083, 3.22101271,\n",
       "       2.71598973, 2.52801356, 9.10206208, 2.58192747, 2.40521321,\n",
       "       3.98556973, 2.94313693, 1.86620078, 1.57226868, 1.67499207,\n",
       "       2.15841666, 3.25260197, 1.61334195, 1.95048443, 1.81097888,\n",
       "       4.03332709, 6.12106328, 2.2170829 , 3.61619915, 6.60382137,\n",
       "       4.13355045, 2.42406554, 2.22640082, 7.74624008, 6.8953984 ,\n",
       "       5.15620218, 2.66974999, 5.38292972, 2.44240193, 2.6780605 ,\n",
       "       1.85472942, 2.26798272, 2.703349  , 2.63922928, 2.10019834,\n",
       "       9.43276065, 2.80356452, 2.81708446, 4.16636434, 2.43552824,\n",
       "       5.35267169, 1.68309208, 2.86769868, 2.86798828, 4.91698874,\n",
       "       1.82482447, 2.14500785, 2.63807477, 1.8341835 , 2.43800746,\n",
       "       8.050551  , 2.82696027, 3.0936343 , 2.59723895, 2.62652886,\n",
       "       2.49651481, 1.62785709, 7.89965728, 4.22238259, 2.74390586,\n",
       "       2.97952101, 2.92171016, 6.97143056, 5.85007851, 4.77071938,\n",
       "       1.62008294, 5.81499746, 2.55226776, 5.9530439 , 2.13252128,\n",
       "       2.52491664, 5.29600378, 9.40733762, 2.31250744, 3.66234024,\n",
       "       2.84717829, 1.99854946, 8.26157465, 3.87393652, 2.29872226,\n",
       "       6.62912324, 2.63671132, 1.77467467, 2.6799073 , 3.71173455,\n",
       "       2.8269312 , 8.39228872, 2.37938827, 1.65486229, 3.03824798,\n",
       "       4.73569887, 4.66451143, 9.49651371, 5.39269433, 5.40560742,\n",
       "       4.29452579, 2.20427544, 5.90729498, 2.64861376, 2.63462487,\n",
       "       2.05094517, 2.55636301, 3.90416772, 6.16215299, 2.7339094 ,\n",
       "       1.74449417, 2.63828931, 3.82980775, 1.81789763])"
      ]
     },
     "execution_count": 18,
     "metadata": {},
     "output_type": "execute_result"
    }
   ],
   "source": [
    "from sklearn.linear_model import LinearRegression\n",
    "\n",
    "\n",
    "lr = LinearRegression()\n",
    "lr.fit(X_train,y_train)\n",
    "pred1 = lr.predict(X_test)\n",
    "pred1\n"
   ]
  },
  {
   "cell_type": "code",
   "execution_count": 20,
   "id": "732cd921",
   "metadata": {},
   "outputs": [
    {
     "name": "stdout",
     "output_type": "stream",
     "text": [
      "MSE->  8.199846310718303\n",
      "RMSE->  2.8635373772169106\n",
      "r2_scores->  -0.9898046240782965\n"
     ]
    }
   ],
   "source": [
    "# MSE --> Mean Squared\n",
    "# RMSE ----> sart(MSE)\n",
    "# r2_score---> 1.0\n",
    "from sklearn.metrics import mean_squared_error,r2_score\n",
    "def calculate_metrics(y_test,y_pred):\n",
    "    mse=mean_squared_error(y_test,y_pred)\n",
    "    rmse=np.sqrt(mse)\n",
    "    r2_scores = r2_score(y_test, y_pred)\n",
    "    print(\"MSE-> \", mse)\n",
    "    print(\"RMSE-> \", rmse)\n",
    "    print(\"r2_scores-> \", r2_scores)\n",
    "\n",
    "    \n",
    "    \n",
    "calculate_metrics(y_test,pred1)"
   ]
  },
  {
   "cell_type": "code",
   "execution_count": 22,
   "id": "ac3db6a3",
   "metadata": {},
   "outputs": [],
   "source": [
    "from sklearn.linear_model import Lasso, Ridge\n",
    "\n",
    "la=Lasso().fit(X_train, y_train)\n",
    "ri=Ridge().fit(X_train,y_train)\n",
    "\n",
    "la_p=la.predict(X_test)\n",
    "ri_p= ri.predict(X_test)"
   ]
  },
  {
   "cell_type": "code",
   "execution_count": 23,
   "id": "d8c4b2f1",
   "metadata": {},
   "outputs": [
    {
     "name": "stdout",
     "output_type": "stream",
     "text": [
      "MSE->  0.2562186025607531\n",
      "RMSE->  0.5061804051528991\n",
      "r2_scores->  0.9378250590521611\n"
     ]
    }
   ],
   "source": [
    "calculate_metrics(y_test,la_p)"
   ]
  },
  {
   "cell_type": "code",
   "execution_count": 24,
   "id": "dda5a124",
   "metadata": {},
   "outputs": [
    {
     "name": "stdout",
     "output_type": "stream",
     "text": [
      "MSE->  0.004497681385754469\n",
      "RMSE->  0.06706475516807968\n",
      "r2_scores->  0.998908576224495\n"
     ]
    }
   ],
   "source": [
    "calculate_metrics(y_test,ri_p)"
   ]
  },
  {
   "cell_type": "code",
   "execution_count": 25,
   "id": "92ae4f76",
   "metadata": {},
   "outputs": [
    {
     "data": {
      "text/plain": [
       "array([3.11311287, 2.77079429, 4.84445062, 9.34822489, 2.41551641,\n",
       "       2.71356533, 8.14434489, 2.64767305, 1.95826476, 8.13893879,\n",
       "       1.72194352, 2.94363293, 5.6646963 , 1.8647677 , 1.59025956,\n",
       "       3.74660384, 2.83729391, 2.080898  , 8.72351188, 8.40197249,\n",
       "       2.94910213, 1.9300419 , 2.73871144, 2.6349277 , 2.72965416,\n",
       "       7.2286974 , 6.91561298, 2.58737079, 5.73133675, 2.59226515,\n",
       "       1.84183446, 7.22944817, 2.2403225 , 2.57699962, 2.5480999 ,\n",
       "       2.00273746, 2.23145172, 6.59564436, 1.52543037, 3.85103044,\n",
       "       6.25247235, 2.96837519, 3.02972603, 2.88598095, 4.8679646 ,\n",
       "       1.70409794, 2.52236689, 8.9983643 , 3.2894376 , 2.98993267,\n",
       "       4.27583175, 3.24092569, 1.84426659, 5.20148259, 5.13205378,\n",
       "       4.34079149, 3.58354866, 5.93920616, 6.42351613, 9.30354412,\n",
       "       2.54252224, 2.48781398, 5.5489865 , 2.74730443, 3.94014987,\n",
       "       7.62023628, 4.61991543, 7.96977036, 6.18684347, 2.28954958,\n",
       "       6.19274305, 2.60595396, 4.0518136 , 6.36325082, 1.67753736,\n",
       "       7.73945576, 2.03418713, 2.4303613 , 6.47815856, 1.83844341,\n",
       "       2.82451236, 1.74800124, 4.0165167 , 2.46468617, 2.66149526,\n",
       "       4.94179767, 4.86861543, 8.03748768, 7.39592597, 2.21166214,\n",
       "       2.63410491, 2.28108108, 7.85470712, 2.49406938, 2.91602966,\n",
       "       2.7173315 , 3.68377524, 3.04433415, 5.46156053, 2.55144764,\n",
       "       1.88222895, 2.63275105, 2.88437939, 1.76834186, 3.17400509,\n",
       "       6.82116637, 6.0992677 , 2.92060752, 1.76704634, 1.78837535,\n",
       "       1.81830677, 2.09778612, 4.92985489, 5.03312962, 2.84915672,\n",
       "       8.22541946, 2.17409921, 2.50907987, 2.86004276, 3.93760525,\n",
       "       5.68830447, 5.12277788, 2.62717438, 6.71463693, 2.91611058,\n",
       "       3.36962714, 8.07227722, 3.8791182 , 3.8267573 , 5.21745271,\n",
       "       2.73892553, 3.71762805, 2.94315759, 2.31320301, 9.19951529,\n",
       "       2.05147103, 6.00061077, 4.3016618 , 6.14697629, 2.67998377,\n",
       "       2.6126748 , 2.52164729, 3.77270759, 5.04443553, 2.63893348,\n",
       "       2.71085907, 2.12242311, 2.44934844, 2.65075727, 7.86808215,\n",
       "       6.83005541, 2.8038914 , 2.20555888, 3.05302754, 4.00739048,\n",
       "       2.25825284, 2.61553152, 2.58094382, 2.66156424, 5.85302764,\n",
       "       5.00327421, 2.15548788, 1.68253511, 2.73557155, 1.84116716,\n",
       "       2.756733  , 3.21911857, 2.40142728, 2.10966129, 1.72844149,\n",
       "       3.2060934 , 2.45184086, 2.38686248, 2.77156895, 3.09173482,\n",
       "       5.64202028, 6.66300479, 2.57253588, 7.01468868, 4.98212619,\n",
       "       2.88366343, 3.91261492, 2.60403831, 1.62010161, 1.72675238,\n",
       "       7.88879066, 1.85598572, 2.7276098 , 5.3363251 ])"
      ]
     },
     "execution_count": 25,
     "metadata": {},
     "output_type": "execute_result"
    }
   ],
   "source": [
    "ri_p"
   ]
  },
  {
   "cell_type": "code",
   "execution_count": null,
   "id": "48530ff2",
   "metadata": {},
   "outputs": [],
   "source": []
  }
 ],
 "metadata": {
  "kernelspec": {
   "display_name": "Python 3 (ipykernel)",
   "language": "python",
   "name": "python3"
  },
  "language_info": {
   "codemirror_mode": {
    "name": "ipython",
    "version": 3
   },
   "file_extension": ".py",
   "mimetype": "text/x-python",
   "name": "python",
   "nbconvert_exporter": "python",
   "pygments_lexer": "ipython3",
   "version": "3.10.9"
  }
 },
 "nbformat": 4,
 "nbformat_minor": 5
}
